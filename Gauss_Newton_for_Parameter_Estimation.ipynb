{
  "nbformat": 4,
  "nbformat_minor": 0,
  "metadata": {
    "colab": {
      "name": "Gauss-Newton for Parameter Estimation.ipynb",
      "provenance": [],
      "collapsed_sections": [],
      "authorship_tag": "ABX9TyO5hKtL1xNowQluSSNEyGQH",
      "include_colab_link": true
    },
    "kernelspec": {
      "name": "python3",
      "display_name": "Python 3"
    },
    "language_info": {
      "name": "python"
    }
  },
  "cells": [
    {
      "cell_type": "markdown",
      "metadata": {
        "id": "view-in-github",
        "colab_type": "text"
      },
      "source": [
        "<a href=\"https://colab.research.google.com/github/pkhamchuai/Optimization/blob/main/Gauss_Newton_for_Parameter_Estimation.ipynb\" target=\"_parent\"><img src=\"https://colab.research.google.com/assets/colab-badge.svg\" alt=\"Open In Colab\"/></a>"
      ]
    },
    {
      "cell_type": "markdown",
      "source": [
        "# Gauss-Newton method for parameter estimation\n"
      ],
      "metadata": {
        "id": "fRNXXitx2tv_"
      }
    },
    {
      "cell_type": "markdown",
      "source": [
        "The task is to estimate the parameters $p_1$ and $p_2$ of the function\n",
        "$f(x) = \\frac{p_1x}{p_2+x}$ using Gauss-Newton method. \n",
        "\n",
        "You can use this code to perform parameter estimation of your interested function. For that you'll need to know the Jacobian matrix, aka, the derivatives of $f(x)$ wrt to $p_1$ and $p_2$."
      ],
      "metadata": {
        "id": "QklQX6tiUNVh"
      }
    },
    {
      "cell_type": "code",
      "source": [
        "import numpy as np\n",
        "import matplotlib.pyplot as plt\n",
        "%matplotlib inline"
      ],
      "metadata": {
        "id": "KXUIcuLFr60r"
      },
      "execution_count": 1,
      "outputs": []
    },
    {
      "cell_type": "code",
      "execution_count": 2,
      "metadata": {
        "id": "VtD4t0_nqzTD"
      },
      "outputs": [],
      "source": [
        "# sample data\n",
        "X = np.array([0.200, 0.200, 0.222, 0.222, 0.286, 0.286, 0.400, 0.400, 0.667, 0.667, 2.000, 2.000])\n",
        "Y = np.array([0.0831, 0.0781, 0.0948, 0.0891, 0.1163, 0.1213, 0.1467, 0.1663, 0.2586, 0.2260, 0.5557, 0.4207])"
      ]
    },
    {
      "cell_type": "code",
      "source": [
        "plt.figure(figsize=(10,6))\n",
        "plt.scatter(X, Y, c='red', marker='o', label=\"Data\")\n",
        "plt.legend()\n",
        "plt.xlabel(\"x\")\n",
        "plt.ylabel(\"y\")\n",
        "plt.legend(fontsize=14)\n",
        "plt.grid(True)\n",
        "plt.show()"
      ],
      "metadata": {
        "colab": {
          "base_uri": "https://localhost:8080/",
          "height": 388
        },
        "id": "TqY6Fv5TqUMZ",
        "outputId": "ef54ef07-c4a9-4851-a4fe-eed608dc63b4"
      },
      "execution_count": 3,
      "outputs": [
        {
          "output_type": "display_data",
          "data": {
            "text/plain": [
              "<Figure size 720x432 with 1 Axes>"
            ],
            "image/png": "[encoded data removed]"
          },
          "metadata": {
            "needs_background": "light"
          }
        }
      ]
    },
    {
      "cell_type": "code",
      "source": [
        "# initial guesses of parameters\n",
        "P0 = [1, 1]"
      ],
      "metadata": {
        "id": "RXaBDa9bsYcg"
      },
      "execution_count": 4,
      "outputs": []
    },
    {
      "cell_type": "code",
      "source": [
        "# the function that we want to fit\n",
        "def f(X, P0):\n",
        "  return (P0[0]*X)/(P0[1]+X)"
      ],
      "metadata": {
        "id": "_7oDKqSOymK9"
      },
      "execution_count": 5,
      "outputs": []
    },
    {
      "cell_type": "markdown",
      "source": [
        "The **Jacobian matrix**, in case you don't know it, is defined as follows\n",
        "\n",
        "$\\mathbf{J}=\\left[\\begin{array}{ccc}\n",
        "\\frac{\\partial f_1}{\\partial p_1} & \\frac{\\partial f_1}{\\partial p_2} & \\frac{\\partial f_1}{\\partial p_3} \\\\\n",
        "    \\frac{\\partial f_2}{\\partial p_1} & \\frac{\\partial f_2}{\\partial p_2} & \\frac{\\partial f_2}{\\partial p_3} \\\\\n",
        "    \\frac{\\partial f_3}{\\partial p_1} & \\frac{\\partial f_3}{\\partial p_2} & \\frac{\\partial f_3}{\\partial p_3}\n",
        "\\end{array}\\right] \\in \\mathbb{R^{i\\times j}}$\n",
        "\n",
        "The 1st and 2nd columns of our Jacobian matrix are derivatives of $f(x)$ wrt to $p_1$ and $p_2$. For $i > j$, $i$ is number of sample points (pairs of $x$ and $y$), and $j$ is number of parameters.\n",
        "In this case,\n",
        "\n",
        "$\\mathbf{J} = \\left[ -\\frac{x}{p_2+x} \\space\\space \\frac{p_1x}{(p_2+x)^2}  \\right]$\n",
        "\n",
        "For Gauss-Newton, the algorithm is ($k$ is iteration number):\n",
        "\n",
        "1.   compute search direction $d_k = (J^TJ)^{-1}J^Tr  \\in \\mathbb{R}^j$\n",
        "2.   optionally compute step length $t_k \\in \\mathbb{R}$\n",
        "3.   iterate $p_{k+1} = p_k + t_kd_k$ \n",
        "4.   check stopping criterien\n",
        "5.   if criterien is not met, redo from step 1.\n",
        "\n",
        "$p_{k+1}$ are the fitted parameters."
      ],
      "metadata": {
        "id": "P66K5Me4ZhWX"
      }
    },
    {
      "cell_type": "code",
      "source": [
        "# Jacobian\n",
        "J = np.zeros([len(X), len(P0)])\n",
        "Iter = 0"
      ],
      "metadata": {
        "id": "IqFghB7rxmEr"
      },
      "execution_count": 6,
      "outputs": []
    },
    {
      "cell_type": "code",
      "source": [
        "while True:\n",
        "  Iter += 1\n",
        "  j1 = -1*(X/(P0[1]+X))\n",
        "  j2 = (P0[0]*X)/((P0[1]+X)**2)\n",
        "  J[:, 0] = j1\n",
        "  J[:, 1] = j2\n",
        "\n",
        "  r = Y - f(X, P0) # objective function\n",
        "  t1 = np.linalg.inv(np.dot(J.T, J))\n",
        "  t2 = np.dot(t1, J.T)\n",
        "  t3 = np.dot(t2, r)\n",
        "  P1 = P0 - t3 # Gauss-Newton update\n",
        "  t4 = abs(P1-P0)\n",
        "\n",
        "  if max(t4) <= 1e-6:\n",
        "    break\n",
        "  P0 = P1\n",
        "\n",
        "x1 = float('{:.4f}'.format(P0[0]))\n",
        "x2 = float('{:.4f}'.format(P0[1]))\n",
        "\n",
        "print(f'The parameters are:\\nx1 = {x1}\\nx2 = {x2}\\nIterations = {Iter}')\n"
      ],
      "metadata": {
        "colab": {
          "base_uri": "https://localhost:8080/"
        },
        "id": "2TdRgsMfxxwu",
        "outputId": "28371287-109c-4c48-ff8d-9c58078f34f3"
      },
      "execution_count": 7,
      "outputs": [
        {
          "output_type": "stream",
          "name": "stdout",
          "text": [
            "The parameters are:\n",
            "x1 = 1.0313\n",
            "x2 = 2.2189\n",
            "Iterations = 6\n"
          ]
        }
      ]
    },
    {
      "cell_type": "markdown",
      "source": [
        "# Plotting"
      ],
      "metadata": {
        "id": "IasSj6Zw0RUR"
      }
    },
    {
      "cell_type": "code",
      "source": [
        "pred = f(X, P0)\n",
        "plt.figure(figsize=(10,6))\n",
        "plt.scatter(X, Y, c='red', marker='o', label=\"Data\")\n",
        "plt.plot(X, pred, '--m', label=\"Model\")\n",
        "plt.legend()\n",
        "plt.xlabel(\"x\")\n",
        "plt.ylabel(\"y\")\n",
        "plt.legend(fontsize=14)\n",
        "plt.grid(True)\n",
        "plt.show()"
      ],
      "metadata": {
        "colab": {
          "base_uri": "https://localhost:8080/",
          "height": 388
        },
        "id": "9DZ1Fz5l0I3A",
        "outputId": "c77db3ed-8264-4de4-c8ef-84bad43ce87d"
      },
      "execution_count": 8,
      "outputs": [
        {
          "output_type": "display_data",
          "data": {
            "text/plain": [
              "<Figure size 720x432 with 1 Axes>"
            ],
            "image/png": "[encoded data removed]"
          },
          "metadata": {
            "needs_background": "light"
          }
        }
      ]
    },
    {
      "cell_type": "code",
      "source": [
        "# coefficients of determinations\n",
        "ssr = np.sum((Y-pred)**2)\n",
        "sse = np.sum((Y-np.mean(Y))**2)\n",
        "r2 = 1-(ssr/sse)\n",
        "print(r2)"
      ],
      "metadata": {
        "colab": {
          "base_uri": "https://localhost:8080/"
        },
        "id": "B4PSnA9q0owo",
        "outputId": "0acc1533-16d8-4e4b-b633-20530919036c"
      },
      "execution_count": 9,
      "outputs": [
        {
          "output_type": "stream",
          "name": "stdout",
          "text": [
            "0.9598634601190857\n"
          ]
        }
      ]
    }
  ]
}