{
 "nbformat": 4,
 "nbformat_minor": 0,
 "metadata": {
  "colab": {
   "name": "Multiple shooting v.1.ipynb",
   "provenance": [],
   "collapsed_sections": [],
   "authorship_tag": "ABX9TyPcCUzC8Lwvh2GhuNsJgYbU",
   "include_colab_link": true
  },
  "kernelspec": {
   "name": "python3",
   "display_name": "Python 3"
  },
  "language_info": {
   "name": "python"
  }
 },
 "cells": [
  {
   "cell_type": "markdown",
   "metadata": {
    "id": "view-in-github",
    "colab_type": "text",
    "pycharm": {
     "name": "#%% md\n"
    }
   },
   "source": [
    "<a href=\"https://colab.research.google.com/github/pkhamchuai/Optimization/blob/main/Multiple_shooting_v_1.ipynb\" target=\"_parent\"><img src=\"https://colab.research.google.com/assets/colab-badge.svg\" alt=\"Open In Colab\"/></a>"
   ]
  },
  {
   "cell_type": "markdown",
   "source": [
    "# Multiple shooting for IVP\n",
    "\n",
    "*   Original paper: https://www.sciencedirect.com/science/article/pii/S1474667017612059\n",
    "*   This is the version taught by Prof Dr. Guido Kanschat in Numerical analysis for ODEs class at Universität Heidelberg in 2016\n"
   ],
   "metadata": {
    "id": "bl01MHIlaST_",
    "pycharm": {
     "name": "#%% md\n"
    }
   }
  },
  {
   "cell_type": "code",
   "source": [
    "import numpy as np\n",
    "import matplotlib.pyplot as plt\n",
    "import plotly.graph_objects as go"
   ],
   "metadata": {
    "id": "FPvJsfGB9-A2",
    "pycharm": {
     "name": "#%%\n"
    }
   },
   "execution_count": 1,
   "outputs": []
  },
  {
   "cell_type": "code",
   "execution_count": 2,
   "metadata": {
    "id": "4C7UQCmYaRRc",
    "pycharm": {
     "name": "#%%\n"
    }
   },
   "outputs": [],
   "source": [
    "t0 = 0.0 # time\n",
    "tn = 5.0"
   ]
  },
  {
   "cell_type": "code",
   "source": [
    "eq_nr =2 # number of ODEs\n",
    "node_nr = np.arange(10, 20, 1)\n",
    "\n",
    "ns = node_nr[0] # number of shooting nodes\n",
    "tm = np.linspace(t0, tn, ns+1) # time at shooting nodes/boundaries\n",
    "u0 = np.array([1.0, 0.0]) # initial values of u, u(0)\n",
    "v = np.zeros([eq_nr, ns+1]) # initial values of shooting nodes vk\n",
    "v[:, 0] = u0 # v0 = u0"
   ],
   "metadata": {
    "id": "_nBSrZpOaTQs",
    "pycharm": {
     "name": "#%%\n"
    }
   },
   "execution_count": 3,
   "outputs": []
  },
  {
   "cell_type": "markdown",
   "source": [
    "# Define functions"
   ],
   "metadata": {
    "id": "oX8g3rWXY-To",
    "pycharm": {
     "name": "#%% md\n"
    }
   }
  },
  {
   "cell_type": "code",
   "source": [
    "def rhs_evaluate(t, u):\n",
    "  f = lambda t, u: np.array([t*u[1], 4*(u[0]**(3/2))]) # pre-defined ODEs RHS << change\n",
    "  return f(t, u)\n",
    "# --------------------\n",
    "\n",
    "def expl_euler(u0,  t0, tn, h):\n",
    "  u = u0\n",
    "  t = t0\n",
    "  epsilon = 1e-7\n",
    "  y = u0\n",
    "\n",
    "  while True:\n",
    "      f_val = rhs_evaluate(t, u)   # evaluate values of rhs at t\n",
    "      if abs((t+h) - tn) < epsilon:    # stop computation when we reach tn\n",
    "          un = u + (h*f_val)           # un = new u\n",
    "          y = np.vstack([y, un])\n",
    "          break\n",
    "      else:\n",
    "          if t+h > tn:    # reduce step size if we are clse to tn\n",
    "              h = tn - t\n",
    "              un = u + (h*f_val)\n",
    "              y = np.vstack([y, un])\n",
    "              break\n",
    "          else:            # normal step size h\n",
    "            un = u + (h*f_val)\n",
    "            t = t + h\n",
    "      y = np.vstack([y, un])\n",
    "      u = un\n",
    "  return np.transpose(y)"
   ],
   "metadata": {
    "id": "datViejvGlNA",
    "pycharm": {
     "name": "#%%\n"
    }
   },
   "execution_count": 4,
   "outputs": []
  },
  {
   "cell_type": "code",
   "source": [
    "def integrator_ee(u0, t0, tn, h, y, f):\n",
    "  # Explicit Euler method integrator for Fundamental Matrix\n",
    "  # y is values of u(t,u), needed for evaluation of Fundamental Matrix\n",
    "  # f is the Jacobian/Gradient\n",
    "  u = u0\n",
    "  t = t0\n",
    "  epsilon = 10e-7\n",
    "  i = 0\n",
    "\n",
    "  #print(f'integrator_ee y: {y} {y.shape}')\n",
    "  while True:\n",
    "      \n",
    "      f_val = np.dot(f(t, y[0, i]), u) \n",
    "      # print(f'integrator_ee: {f(t, y[0, i])} {u}')\n",
    "      # print(f'fval: {f_val}')\n",
    "      if abs((t+h) - tn) < epsilon: # stop computation when we reach tn\n",
    "          un = u + (h*f_val)\n",
    "          break\n",
    "      else:\n",
    "          if t+h > tn:    # reduce step size if we are clse to tn\n",
    "              h = tn - t\n",
    "              un = u + (h*f_val)\n",
    "              break\n",
    "          else: # normal step size h\n",
    "              un = u + (h*f_val)\n",
    "              t = t + h\n",
    "      u = un;\n",
    "      i = i+1;\n",
    "  return un\n",
    "\n",
    "def compute_fundamental(a, b, d, y, Gradf_u):\n",
    "  # d = dimension of fundamental matrix\n",
    "  # need all y solved by IVP to evaluate GradF\n",
    "\n",
    "  h = 1/30\n",
    "  U = np.eye(d)\n",
    "  for i in range(d):\n",
    "    U[:, i] = integrator_ee(U[:, i], a, b, h, y, Gradf_u)\n",
    "  return U"
   ],
   "metadata": {
    "id": "cMQKXX8EKubs",
    "pycharm": {
     "name": "#%%\n"
    }
   },
   "execution_count": 5,
   "outputs": []
  },
  {
   "cell_type": "markdown",
   "source": [
    "# Perform multiple shooting"
   ],
   "metadata": {
    "id": "W_eNep_QZB0t",
    "pycharm": {
     "name": "#%% md\n"
    }
   }
  },
  {
   "cell_type": "code",
   "source": [
    "def MultipleShooting(v, t0, tn, ns):\n",
    "  \n",
    "  h = 1/30 # step size for Explicit Euler\n",
    "  g = v[:, 0] # boundary condition of original problem\n",
    "  tm = np.linspace(t0, tn, ns+1) # time at shooting nodes/boundaries\n",
    "\n",
    "  Ba = np.array([[1, 0], [0, 0]]) # Ba = dr(v1, vm+1)/dv1 << change\n",
    "  Bb = np.array([[0, 0], [1, 0]]) # Bb = dr(v1, vm+1)/dvm+1 << change\n",
    "\n",
    "  u = np.zeros([eq_nr, ns+1])\n",
    "  GradF = np.zeros([2*(ns+1), 2*(ns+1)])\n",
    "\n",
    "  # analytical Jacobian (not used in AutoDiff)\n",
    "  GradF_func = lambda t, u: [[0, t], [6*np.power(u, (1/2)), 0]]\n",
    "\n",
    "  # --------------------\n",
    "  # compute u(i) and GradF(v)\n",
    "  for i in range(0, ns):   # for every shooting nodes <<< check 1st index!!!\n",
    "      # print(f'Node: {i}')\n",
    "      y = expl_euler(v[:, i], tm[i], tm[i+1], h)\n",
    "      u[:, i] = y[:, -1]      # store values of last y for uk(tk)\n",
    "      \n",
    "      if i == 0:\n",
    "          ua = y[:, 0]        # get ua from 1st subinterval, needed for r <<< check index!!!\n",
    "      if i == ns-1:\n",
    "          ub = y[:, -1]      # get ub from last subinterval, needed for r\n",
    "      \n",
    "      # to compute GradF: put G, -I, Ba, Bb in their positions\n",
    "      # G is computed by integration of U_prime over interval of shooting nodes\n",
    "      # done in compute_Variational func\n",
    "      \n",
    "      # switch between analytical and automatic differentiation (AD)\n",
    "      \n",
    "      GradF[2*i:2*i+eq_nr, 2*i:2*i+eq_nr] = compute_fundamental(tm[i], tm[i+1], eq_nr, y, GradF_func)\n",
    "      # GradF[2*i-1:2*i, 2*i-1:2*i] = compute_fundamental_AD(tm[i], tm[i+1], 2, y);\n",
    "      GradF[2*i:2*i+eq_nr, 2*i+(1*eq_nr):2*i+(2*eq_nr)] = -np.eye(eq_nr)\n",
    "      GradF[2*ns:2*ns+eq_nr, 0:eq_nr] = Ba\n",
    "      GradF[2*ns:2*ns+eq_nr, 2*ns:2*ns+eq_nr] = Bb\n",
    "  print(GradF)\n",
    "  # --------------------\n",
    "  r = np.dot(Ba, ua) + np.dot(Bb, ub) - g     # boundary condition function r\n",
    "  F = compute_F(u, v, r, ns)     # compute F\n",
    "\n",
    "  # print(f'u1(0) = {ua(0)}')\n",
    "  # print(f'u2(0) = {ua(1)}')\n",
    "\n",
    "  # solve linear system GradF*v = -F for v (update of shooting nodes)\n",
    "  deltav = np.linalg.solve(GradF, -F)\n",
    "\n",
    "  # --------------------\n",
    "  # Globalization with line search (with Armijo & Backtracking)\n",
    "  # reduce Newton step size with t, t = (0,1]\n",
    "  # t which minimizes F(u, v+t*deltav, r, ns)\n",
    "  # return deltav = t*deltav\n",
    "  deltav = backtracking(deltav, u, v, r, ns)\n",
    "  # --------------------\n",
    "\n",
    "  return deltav, ua"
   ],
   "metadata": {
    "id": "hw8LG7HVALrQ",
    "pycharm": {
     "name": "#%%\n"
    }
   },
   "execution_count": 9,
   "outputs": []
  },
  {
   "cell_type": "code",
   "source": [
    "def compute_F(u, v, r, ns):\n",
    "  # to computes F, need u, v, r and ns\n",
    "  F = np.zeros((eq_nr, ns+1))\n",
    "  for i in range(0, ns): # compute F(v)  << beware index!!\n",
    "    F[:, i] = u[:, i] - v[:, i+1]\n",
    "\n",
    "  F[:, -1] = r  # last 2 elements of F(v)\n",
    "  F = np.reshape(F, (-1, 1))\n",
    "  return F\n",
    "\n",
    "def backtracking(deltav, u, v, r, ns):\n",
    "  # compute a new deltav with backtrackng\n",
    "  # find t = (0,1] which minimizes F(u, v+t*deltav, r, ns)\n",
    "  # first check if t = 1 satisfies Armijo (mu = 0)\n",
    "  # if not, reduce t and check again\n",
    "  # returns deltav = t*deltav\n",
    "  # needs u, v, r, ns for compute_F func\n",
    "\n",
    "  t = 1\n",
    "  for i in range(18):     # step from t = 1 back to some t that is not so small\n",
    "      v = np.reshape(v, (-1, 1))\n",
    "      v_new = v + (t*deltav)\n",
    "      v_new = np.reshape(v_new, (eq_nr, ns+1))\n",
    "      v = np.reshape(v, (eq_nr, ns+1))\n",
    "      \n",
    "      # compute norm of F(x+td) and F(x)\n",
    "      normF = np.linalg.norm(compute_F(u, v_new, r, ns))\n",
    "      normF_old = np.linalg.norm(compute_F(u, v, r, ns))\n",
    "      \n",
    "      # if F is \"better\", return deltav, if not, reduce t and repeat\n",
    "      # if there is no t satiefies the condition, use t = 1\n",
    "      if normF < normF_old:\n",
    "          deltav = t*deltav\n",
    "          break\n",
    "      else: t = t - 0.05\n",
    "  return deltav"
   ],
   "metadata": {
    "id": "Ymt3aZC_Mu13",
    "pycharm": {
     "name": "#%%\n"
    }
   },
   "execution_count": 10,
   "outputs": []
  },
  {
   "cell_type": "markdown",
   "source": [
    "### Somehow the Jacobian always explodes, still need to fix\n",
    "The Matlab version runs fine."
   ],
   "metadata": {
    "collapsed": false,
    "pycharm": {
     "name": "#%% md\n"
    }
   }
  },
  {
   "cell_type": "code",
   "source": [
    "print(f'Nodes = {ns}')\n",
    "iteration = 0\n",
    "while True:\n",
    "  deltav, ua = MultipleShooting(v, t0, tn, ns)\n",
    "  v = np.reshape(v, (eq_nr*(ns+1), 1))\n",
    "  v = v + deltav\n",
    "  v = np.reshape(v, (eq_nr, ns+1))\n",
    "\n",
    "  print(f'Iteration {iteration}')\n",
    "  print(f'Norm v: {np.linalg.norm(deltav)}')\n",
    "  # iterate until deltav is small enough\n",
    "  if np.linalg.norm(deltav) < 1e-7 or iteration > 2:\n",
    "    break\n",
    "  iteration = iteration + 1;\n",
    "\n",
    "print(f'nr. nodes:  {ns}  nr. iterations: {iteration}')\n",
    "print(f'ua: {ua}')\n",
    "\n",
    "plt.figure()\n",
    "plt.plot(tm, v[0, :].real, '-', label=\"u_1(t)\")\n",
    "plt.plot(tm, v[1, :].real, '-', label=\"u_2(t)\")\n",
    "plt.legend()\n",
    "plt.xlabel('Time t')\n",
    "plt.ylabel('u(t)')\n",
    "plt.title('Multiple Shooting: {:d} nodes'.format(ns))\n",
    "plt.ylim([-4, 1.5])\n",
    "plt.xlim([0, 5])\n",
    "plt.show()\n",
    "\n",
    "  "
   ],
   "metadata": {
    "colab": {
     "base_uri": "https://localhost:8080/",
     "height": 1000
    },
    "id": "hMIzRhYb-SIz",
    "outputId": "e6b32290-aae9-4863-fde8-62a1460eaa03",
    "pycharm": {
     "name": "#%%\n"
    }
   },
   "execution_count": 13,
   "outputs": [
    {
     "output_type": "stream",
     "name": "stdout",
     "text": [
      "Nodes = 10\n",
      "[[nan nan -1. -0.  0.  0.  0.  0.  0.  0.  0.  0.  0.  0.  0.  0.  0.  0.\n",
      "   0.  0.  0.  0.]\n",
      " [nan nan -0. -1.  0.  0.  0.  0.  0.  0.  0.  0.  0.  0.  0.  0.  0.  0.\n",
      "   0.  0.  0.  0.]\n",
      " [ 0.  0. nan nan -1. -0.  0.  0.  0.  0.  0.  0.  0.  0.  0.  0.  0.  0.\n",
      "   0.  0.  0.  0.]\n",
      " [ 0.  0. nan nan -0. -1.  0.  0.  0.  0.  0.  0.  0.  0.  0.  0.  0.  0.\n",
      "   0.  0.  0.  0.]\n",
      " [ 0.  0.  0.  0. nan nan -1. -0.  0.  0.  0.  0.  0.  0.  0.  0.  0.  0.\n",
      "   0.  0.  0.  0.]\n",
      " [ 0.  0.  0.  0. nan nan -0. -1.  0.  0.  0.  0.  0.  0.  0.  0.  0.  0.\n",
      "   0.  0.  0.  0.]\n",
      " [ 0.  0.  0.  0.  0.  0. nan nan -1. -0.  0.  0.  0.  0.  0.  0.  0.  0.\n",
      "   0.  0.  0.  0.]\n",
      " [ 0.  0.  0.  0.  0.  0. nan nan -0. -1.  0.  0.  0.  0.  0.  0.  0.  0.\n",
      "   0.  0.  0.  0.]\n",
      " [ 0.  0.  0.  0.  0.  0.  0.  0. nan nan -1. -0.  0.  0.  0.  0.  0.  0.\n",
      "   0.  0.  0.  0.]\n",
      " [ 0.  0.  0.  0.  0.  0.  0.  0. nan nan -0. -1.  0.  0.  0.  0.  0.  0.\n",
      "   0.  0.  0.  0.]\n",
      " [ 0.  0.  0.  0.  0.  0.  0.  0.  0.  0. nan nan -1. -0.  0.  0.  0.  0.\n",
      "   0.  0.  0.  0.]\n",
      " [ 0.  0.  0.  0.  0.  0.  0.  0.  0.  0. nan nan -0. -1.  0.  0.  0.  0.\n",
      "   0.  0.  0.  0.]\n",
      " [ 0.  0.  0.  0.  0.  0.  0.  0.  0.  0.  0.  0. nan nan -1. -0.  0.  0.\n",
      "   0.  0.  0.  0.]\n",
      " [ 0.  0.  0.  0.  0.  0.  0.  0.  0.  0.  0.  0. nan nan -0. -1.  0.  0.\n",
      "   0.  0.  0.  0.]\n",
      " [ 0.  0.  0.  0.  0.  0.  0.  0.  0.  0.  0.  0.  0.  0. nan nan -1. -0.\n",
      "   0.  0.  0.  0.]\n",
      " [ 0.  0.  0.  0.  0.  0.  0.  0.  0.  0.  0.  0.  0.  0. nan nan -0. -1.\n",
      "   0.  0.  0.  0.]\n",
      " [ 0.  0.  0.  0.  0.  0.  0.  0.  0.  0.  0.  0.  0.  0.  0.  0. nan nan\n",
      "  -1. -0.  0.  0.]\n",
      " [ 0.  0.  0.  0.  0.  0.  0.  0.  0.  0.  0.  0.  0.  0.  0.  0. nan nan\n",
      "  -0. -1.  0.  0.]\n",
      " [ 0.  0.  0.  0.  0.  0.  0.  0.  0.  0.  0.  0.  0.  0.  0.  0.  0.  0.\n",
      "  nan nan -1. -0.]\n",
      " [ 0.  0.  0.  0.  0.  0.  0.  0.  0.  0.  0.  0.  0.  0.  0.  0.  0.  0.\n",
      "  nan nan -0. -1.]\n",
      " [ 1.  0.  0.  0.  0.  0.  0.  0.  0.  0.  0.  0.  0.  0.  0.  0.  0.  0.\n",
      "   0.  0.  0.  0.]\n",
      " [ 0.  0.  0.  0.  0.  0.  0.  0.  0.  0.  0.  0.  0.  0.  0.  0.  0.  0.\n",
      "   0.  0.  1.  0.]]\n",
      "Iteration 0\n",
      "Norm v: nan\n",
      "[[nan nan -1. -0.  0.  0.  0.  0.  0.  0.  0.  0.  0.  0.  0.  0.  0.  0.\n",
      "   0.  0.  0.  0.]\n",
      " [nan nan -0. -1.  0.  0.  0.  0.  0.  0.  0.  0.  0.  0.  0.  0.  0.  0.\n",
      "   0.  0.  0.  0.]\n",
      " [ 0.  0. nan nan -1. -0.  0.  0.  0.  0.  0.  0.  0.  0.  0.  0.  0.  0.\n",
      "   0.  0.  0.  0.]\n",
      " [ 0.  0. nan nan -0. -1.  0.  0.  0.  0.  0.  0.  0.  0.  0.  0.  0.  0.\n",
      "   0.  0.  0.  0.]\n",
      " [ 0.  0.  0.  0. nan nan -1. -0.  0.  0.  0.  0.  0.  0.  0.  0.  0.  0.\n",
      "   0.  0.  0.  0.]\n",
      " [ 0.  0.  0.  0. nan nan -0. -1.  0.  0.  0.  0.  0.  0.  0.  0.  0.  0.\n",
      "   0.  0.  0.  0.]\n",
      " [ 0.  0.  0.  0.  0.  0. nan nan -1. -0.  0.  0.  0.  0.  0.  0.  0.  0.\n",
      "   0.  0.  0.  0.]\n",
      " [ 0.  0.  0.  0.  0.  0. nan nan -0. -1.  0.  0.  0.  0.  0.  0.  0.  0.\n",
      "   0.  0.  0.  0.]\n",
      " [ 0.  0.  0.  0.  0.  0.  0.  0. nan nan -1. -0.  0.  0.  0.  0.  0.  0.\n",
      "   0.  0.  0.  0.]\n",
      " [ 0.  0.  0.  0.  0.  0.  0.  0. nan nan -0. -1.  0.  0.  0.  0.  0.  0.\n",
      "   0.  0.  0.  0.]\n",
      " [ 0.  0.  0.  0.  0.  0.  0.  0.  0.  0. nan nan -1. -0.  0.  0.  0.  0.\n",
      "   0.  0.  0.  0.]\n",
      " [ 0.  0.  0.  0.  0.  0.  0.  0.  0.  0. nan nan -0. -1.  0.  0.  0.  0.\n",
      "   0.  0.  0.  0.]\n",
      " [ 0.  0.  0.  0.  0.  0.  0.  0.  0.  0.  0.  0. nan nan -1. -0.  0.  0.\n",
      "   0.  0.  0.  0.]\n",
      " [ 0.  0.  0.  0.  0.  0.  0.  0.  0.  0.  0.  0. nan nan -0. -1.  0.  0.\n",
      "   0.  0.  0.  0.]\n",
      " [ 0.  0.  0.  0.  0.  0.  0.  0.  0.  0.  0.  0.  0.  0. nan nan -1. -0.\n",
      "   0.  0.  0.  0.]\n",
      " [ 0.  0.  0.  0.  0.  0.  0.  0.  0.  0.  0.  0.  0.  0. nan nan -0. -1.\n",
      "   0.  0.  0.  0.]\n",
      " [ 0.  0.  0.  0.  0.  0.  0.  0.  0.  0.  0.  0.  0.  0.  0.  0. nan nan\n",
      "  -1. -0.  0.  0.]\n",
      " [ 0.  0.  0.  0.  0.  0.  0.  0.  0.  0.  0.  0.  0.  0.  0.  0. nan nan\n",
      "  -0. -1.  0.  0.]\n",
      " [ 0.  0.  0.  0.  0.  0.  0.  0.  0.  0.  0.  0.  0.  0.  0.  0.  0.  0.\n",
      "  nan nan -1. -0.]\n",
      " [ 0.  0.  0.  0.  0.  0.  0.  0.  0.  0.  0.  0.  0.  0.  0.  0.  0.  0.\n",
      "  nan nan -0. -1.]\n",
      " [ 1.  0.  0.  0.  0.  0.  0.  0.  0.  0.  0.  0.  0.  0.  0.  0.  0.  0.\n",
      "   0.  0.  0.  0.]\n",
      " [ 0.  0.  0.  0.  0.  0.  0.  0.  0.  0.  0.  0.  0.  0.  0.  0.  0.  0.\n",
      "   0.  0.  1.  0.]]\n",
      "Iteration 1\n",
      "Norm v: nan\n",
      "[[nan nan -1. -0.  0.  0.  0.  0.  0.  0.  0.  0.  0.  0.  0.  0.  0.  0.\n",
      "   0.  0.  0.  0.]\n",
      " [nan nan -0. -1.  0.  0.  0.  0.  0.  0.  0.  0.  0.  0.  0.  0.  0.  0.\n",
      "   0.  0.  0.  0.]\n",
      " [ 0.  0. nan nan -1. -0.  0.  0.  0.  0.  0.  0.  0.  0.  0.  0.  0.  0.\n",
      "   0.  0.  0.  0.]\n",
      " [ 0.  0. nan nan -0. -1.  0.  0.  0.  0.  0.  0.  0.  0.  0.  0.  0.  0.\n",
      "   0.  0.  0.  0.]\n",
      " [ 0.  0.  0.  0. nan nan -1. -0.  0.  0.  0.  0.  0.  0.  0.  0.  0.  0.\n",
      "   0.  0.  0.  0.]\n",
      " [ 0.  0.  0.  0. nan nan -0. -1.  0.  0.  0.  0.  0.  0.  0.  0.  0.  0.\n",
      "   0.  0.  0.  0.]\n",
      " [ 0.  0.  0.  0.  0.  0. nan nan -1. -0.  0.  0.  0.  0.  0.  0.  0.  0.\n",
      "   0.  0.  0.  0.]\n",
      " [ 0.  0.  0.  0.  0.  0. nan nan -0. -1.  0.  0.  0.  0.  0.  0.  0.  0.\n",
      "   0.  0.  0.  0.]\n",
      " [ 0.  0.  0.  0.  0.  0.  0.  0. nan nan -1. -0.  0.  0.  0.  0.  0.  0.\n",
      "   0.  0.  0.  0.]\n",
      " [ 0.  0.  0.  0.  0.  0.  0.  0. nan nan -0. -1.  0.  0.  0.  0.  0.  0.\n",
      "   0.  0.  0.  0.]\n",
      " [ 0.  0.  0.  0.  0.  0.  0.  0.  0.  0. nan nan -1. -0.  0.  0.  0.  0.\n",
      "   0.  0.  0.  0.]\n",
      " [ 0.  0.  0.  0.  0.  0.  0.  0.  0.  0. nan nan -0. -1.  0.  0.  0.  0.\n",
      "   0.  0.  0.  0.]\n",
      " [ 0.  0.  0.  0.  0.  0.  0.  0.  0.  0.  0.  0. nan nan -1. -0.  0.  0.\n",
      "   0.  0.  0.  0.]\n",
      " [ 0.  0.  0.  0.  0.  0.  0.  0.  0.  0.  0.  0. nan nan -0. -1.  0.  0.\n",
      "   0.  0.  0.  0.]\n",
      " [ 0.  0.  0.  0.  0.  0.  0.  0.  0.  0.  0.  0.  0.  0. nan nan -1. -0.\n",
      "   0.  0.  0.  0.]\n",
      " [ 0.  0.  0.  0.  0.  0.  0.  0.  0.  0.  0.  0.  0.  0. nan nan -0. -1.\n",
      "   0.  0.  0.  0.]\n",
      " [ 0.  0.  0.  0.  0.  0.  0.  0.  0.  0.  0.  0.  0.  0.  0.  0. nan nan\n",
      "  -1. -0.  0.  0.]\n",
      " [ 0.  0.  0.  0.  0.  0.  0.  0.  0.  0.  0.  0.  0.  0.  0.  0. nan nan\n",
      "  -0. -1.  0.  0.]\n",
      " [ 0.  0.  0.  0.  0.  0.  0.  0.  0.  0.  0.  0.  0.  0.  0.  0.  0.  0.\n",
      "  nan nan -1. -0.]\n",
      " [ 0.  0.  0.  0.  0.  0.  0.  0.  0.  0.  0.  0.  0.  0.  0.  0.  0.  0.\n",
      "  nan nan -0. -1.]\n",
      " [ 1.  0.  0.  0.  0.  0.  0.  0.  0.  0.  0.  0.  0.  0.  0.  0.  0.  0.\n",
      "   0.  0.  0.  0.]\n",
      " [ 0.  0.  0.  0.  0.  0.  0.  0.  0.  0.  0.  0.  0.  0.  0.  0.  0.  0.\n",
      "   0.  0.  1.  0.]]\n",
      "Iteration 2\n",
      "Norm v: nan\n",
      "[[nan nan -1. -0.  0.  0.  0.  0.  0.  0.  0.  0.  0.  0.  0.  0.  0.  0.\n",
      "   0.  0.  0.  0.]\n",
      " [nan nan -0. -1.  0.  0.  0.  0.  0.  0.  0.  0.  0.  0.  0.  0.  0.  0.\n",
      "   0.  0.  0.  0.]\n",
      " [ 0.  0. nan nan -1. -0.  0.  0.  0.  0.  0.  0.  0.  0.  0.  0.  0.  0.\n",
      "   0.  0.  0.  0.]\n",
      " [ 0.  0. nan nan -0. -1.  0.  0.  0.  0.  0.  0.  0.  0.  0.  0.  0.  0.\n",
      "   0.  0.  0.  0.]\n",
      " [ 0.  0.  0.  0. nan nan -1. -0.  0.  0.  0.  0.  0.  0.  0.  0.  0.  0.\n",
      "   0.  0.  0.  0.]\n",
      " [ 0.  0.  0.  0. nan nan -0. -1.  0.  0.  0.  0.  0.  0.  0.  0.  0.  0.\n",
      "   0.  0.  0.  0.]\n",
      " [ 0.  0.  0.  0.  0.  0. nan nan -1. -0.  0.  0.  0.  0.  0.  0.  0.  0.\n",
      "   0.  0.  0.  0.]\n",
      " [ 0.  0.  0.  0.  0.  0. nan nan -0. -1.  0.  0.  0.  0.  0.  0.  0.  0.\n",
      "   0.  0.  0.  0.]\n",
      " [ 0.  0.  0.  0.  0.  0.  0.  0. nan nan -1. -0.  0.  0.  0.  0.  0.  0.\n",
      "   0.  0.  0.  0.]\n",
      " [ 0.  0.  0.  0.  0.  0.  0.  0. nan nan -0. -1.  0.  0.  0.  0.  0.  0.\n",
      "   0.  0.  0.  0.]\n",
      " [ 0.  0.  0.  0.  0.  0.  0.  0.  0.  0. nan nan -1. -0.  0.  0.  0.  0.\n",
      "   0.  0.  0.  0.]\n",
      " [ 0.  0.  0.  0.  0.  0.  0.  0.  0.  0. nan nan -0. -1.  0.  0.  0.  0.\n",
      "   0.  0.  0.  0.]\n",
      " [ 0.  0.  0.  0.  0.  0.  0.  0.  0.  0.  0.  0. nan nan -1. -0.  0.  0.\n",
      "   0.  0.  0.  0.]\n",
      " [ 0.  0.  0.  0.  0.  0.  0.  0.  0.  0.  0.  0. nan nan -0. -1.  0.  0.\n",
      "   0.  0.  0.  0.]\n",
      " [ 0.  0.  0.  0.  0.  0.  0.  0.  0.  0.  0.  0.  0.  0. nan nan -1. -0.\n",
      "   0.  0.  0.  0.]\n",
      " [ 0.  0.  0.  0.  0.  0.  0.  0.  0.  0.  0.  0.  0.  0. nan nan -0. -1.\n",
      "   0.  0.  0.  0.]\n",
      " [ 0.  0.  0.  0.  0.  0.  0.  0.  0.  0.  0.  0.  0.  0.  0.  0. nan nan\n",
      "  -1. -0.  0.  0.]\n",
      " [ 0.  0.  0.  0.  0.  0.  0.  0.  0.  0.  0.  0.  0.  0.  0.  0. nan nan\n",
      "  -0. -1.  0.  0.]\n",
      " [ 0.  0.  0.  0.  0.  0.  0.  0.  0.  0.  0.  0.  0.  0.  0.  0.  0.  0.\n",
      "  nan nan -1. -0.]\n",
      " [ 0.  0.  0.  0.  0.  0.  0.  0.  0.  0.  0.  0.  0.  0.  0.  0.  0.  0.\n",
      "  nan nan -0. -1.]\n",
      " [ 1.  0.  0.  0.  0.  0.  0.  0.  0.  0.  0.  0.  0.  0.  0.  0.  0.  0.\n",
      "   0.  0.  0.  0.]\n",
      " [ 0.  0.  0.  0.  0.  0.  0.  0.  0.  0.  0.  0.  0.  0.  0.  0.  0.  0.\n",
      "   0.  0.  1.  0.]]\n",
      "Iteration 3\n",
      "Norm v: nan\n",
      "nr. nodes:  10  nr. iterations: 3\n",
      "ua: [nan nan]\n"
     ]
    },
    {
     "output_type": "display_data",
     "data": {
      "text/plain": [
       "<Figure size 432x288 with 1 Axes>"
      ],
      "image/png": "[encoded data removed]"
     },
     "metadata": {
      "needs_background": "light"
     }
    }
   ]
  },
  {
   "cell_type": "code",
   "source": [],
   "metadata": {
    "id": "db0dGVRUU9OJ",
    "pycharm": {
     "name": "#%%\n"
    }
   },
   "execution_count": null,
   "outputs": []
  }
 ]
}